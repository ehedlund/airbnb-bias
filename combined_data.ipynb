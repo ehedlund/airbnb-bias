{
 "cells": [
  {
   "cell_type": "code",
   "execution_count": 133,
   "metadata": {},
   "outputs": [],
   "source": [
    "import pandas as pd\n",
    "import numpy as np"
   ]
  },
  {
   "cell_type": "code",
   "execution_count": 134,
   "metadata": {},
   "outputs": [],
   "source": [
    "data = pd.read_csv('reviews_det_sentiment.csv')\n",
    "# print(data.head(10))"
   ]
  },
  {
   "cell_type": "code",
   "execution_count": 135,
   "metadata": {},
   "outputs": [
    {
     "name": "stderr",
     "output_type": "stream",
     "text": [
      "/Library/Frameworks/Python.framework/Versions/3.5/lib/python3.5/site-packages/IPython/core/interactiveshell.py:2728: DtypeWarning: Columns (43,61,62,88) have mixed types. Specify dtype option on import or set low_memory=False.\n",
      "  interactivity=interactivity, compiler=compiler, result=result)\n"
     ]
    },
    {
     "name": "stdout",
     "output_type": "stream",
     "text": [
      "     id                        listing_url       scrape_id last_scraped  \\\n",
      "0  2515  https://www.airbnb.com/rooms/2515  20180303203649   2018-03-04   \n",
      "1  2539  https://www.airbnb.com/rooms/2539  20180303203649   2018-03-04   \n",
      "2  2595  https://www.airbnb.com/rooms/2595  20180303203649   2018-03-04   \n",
      "3  3330  https://www.airbnb.com/rooms/3330  20180303203649   2018-03-04   \n",
      "4  3647  https://www.airbnb.com/rooms/3647  20180303203649   2018-03-04   \n",
      "5  3831  https://www.airbnb.com/rooms/3831  20180303203649   2018-03-04   \n",
      "6  4989  https://www.airbnb.com/rooms/4989  20180303203649   2018-03-04   \n",
      "7  5054  https://www.airbnb.com/rooms/5054  20180303203649   2018-03-06   \n",
      "8  5121  https://www.airbnb.com/rooms/5121  20180303203649   2018-03-04   \n",
      "9  5136  https://www.airbnb.com/rooms/5136  20180303203649   2018-03-05   \n",
      "\n",
      "                                             name  \\\n",
      "0                Stay at Chez Chic budget room #1   \n",
      "1              Clean & quiet apt home by the park   \n",
      "2                           Skylit Midtown Castle   \n",
      "3              ++ Brooklyn Penthouse Guestroom ++   \n",
      "4             THE VILLAGE OF HARLEM....NEW YORK !   \n",
      "5                 Cozy Entire Floor of Brownstone   \n",
      "6  Available! Perfect location! Entire apartment!   \n",
      "7                                    Midtown West   \n",
      "8                                 BlissArtsSpace!   \n",
      "9               Spacious Brooklyn Duplex + Garden   \n",
      "\n",
      "                                             summary  \\\n",
      "0  Step into our artistic spacious apartment and ...   \n",
      "1           Renovated apt home in elevator building.   \n",
      "2  Find your romantic getaway to this beautiful, ...   \n",
      "3  This is a spacious, clean, furnished master be...   \n",
      "4                                                NaN   \n",
      "5  Urban retreat: enjoy 500 s.f. floor in 1899 br...   \n",
      "6  In the heart of it all!  Message me about avai...   \n",
      "7                                                NaN   \n",
      "8                                                NaN   \n",
      "9  We welcome you to stay in our lovely 2 br +bab...   \n",
      "\n",
      "                                               space  \\\n",
      "0  -PLEASE BOOK DIRECTLY. NO NEED TO SEND A REQUE...   \n",
      "1  Spacious, renovated, and clean apt home, one b...   \n",
      "2  - Spacious (500+ft²), immaculate and nicely fu...   \n",
      "3  Room Features: - clean, hardwood floors - 2 la...   \n",
      "4  WELCOME TO OUR INTERNATIONAL URBAN COMMUNITY T...   \n",
      "5  Greetings!      We own a double-duplex brownst...   \n",
      "6  Quiet, cool, quirky, 1 bedroom apt. in Hell's ...   \n",
      "7  I'm in a perfect location of Manhattan, being ...   \n",
      "8  HELLO EVERYONE AND THANKS FOR VISITING BLISS A...   \n",
      "9  Sleeps 4 + baby comfortably with 6 people max ...   \n",
      "\n",
      "                                         description experiences_offered  \\\n",
      "0  Step into our artistic spacious apartment and ...                none   \n",
      "1  Renovated apt home in elevator building. Spaci...                none   \n",
      "2  Find your romantic getaway to this beautiful, ...                none   \n",
      "3  This is a spacious, clean, furnished master be...                none   \n",
      "4  WELCOME TO OUR INTERNATIONAL URBAN COMMUNITY T...                none   \n",
      "5  Urban retreat: enjoy 500 s.f. floor in 1899 br...                none   \n",
      "6  In the heart of it all!  Message me about avai...                none   \n",
      "7  I'm in a perfect location of Manhattan, being ...                none   \n",
      "8  HELLO EVERYONE AND THANKS FOR VISITING BLISS A...                none   \n",
      "9  We welcome you to stay in our lovely 2 br +bab...                none   \n",
      "\n",
      "                               neighborhood_overview        ...          \\\n",
      "0                                                NaN        ...           \n",
      "1    Close to Prospect Park and Historic Ditmas Park        ...           \n",
      "2  Centrally located in the heart of Manhattan ju...        ...           \n",
      "3  Location is GREAT!! Right off the L train in t...        ...           \n",
      "4                                                NaN        ...           \n",
      "5  Just the right mix of urban center and local n...        ...           \n",
      "6  Hell's Kitchen is a safe, popular, and desirab...        ...           \n",
      "7                                                NaN        ...           \n",
      "8                                                NaN        ...           \n",
      "9                                                NaN        ...           \n",
      "\n",
      "  requires_license license jurisdiction_names instant_bookable  \\\n",
      "0                f     NaN                NaN                f   \n",
      "1                f     NaN                NaN                f   \n",
      "2                f     NaN                NaN                f   \n",
      "3                f     NaN                NaN                f   \n",
      "4                f     NaN                NaN                f   \n",
      "5                f     NaN                NaN                f   \n",
      "6                f     NaN                NaN                f   \n",
      "7                f     NaN                NaN                f   \n",
      "8                f     NaN                NaN                f   \n",
      "9                f     NaN                NaN                f   \n",
      "\n",
      "  is_business_travel_ready  cancellation_policy  \\\n",
      "0                        f               strict   \n",
      "1                        f             moderate   \n",
      "2                        f               strict   \n",
      "3                        f               strict   \n",
      "4                        f               strict   \n",
      "5                        f             moderate   \n",
      "6                        f               strict   \n",
      "7                        f               strict   \n",
      "8                        f               strict   \n",
      "9                        f               strict   \n",
      "\n",
      "   require_guest_profile_picture require_guest_phone_verification  \\\n",
      "0                              f                                f   \n",
      "1                              f                                f   \n",
      "2                              t                                t   \n",
      "3                              f                                f   \n",
      "4                              t                                t   \n",
      "5                              f                                f   \n",
      "6                              f                                f   \n",
      "7                              f                                f   \n",
      "8                              f                                f   \n",
      "9                              f                                f   \n",
      "\n",
      "   calculated_host_listings_count  reviews_per_month  \n",
      "0                               3               1.43  \n",
      "1                               7               0.26  \n",
      "2                               2               0.29  \n",
      "3                               3               0.27  \n",
      "4                               1                NaN  \n",
      "5                               1               4.34  \n",
      "6                               1               0.26  \n",
      "7                               1               0.53  \n",
      "8                               2               0.48  \n",
      "9                               1               0.02  \n",
      "\n",
      "[10 rows x 96 columns]\n"
     ]
    }
   ],
   "source": [
    "listings = pd.read_csv('listings_det.csv')\n",
    "print(listings.head(10))"
   ]
  },
  {
   "cell_type": "code",
   "execution_count": 121,
   "metadata": {},
   "outputs": [],
   "source": [
    "# print(listings.columns.values)\n",
    "# print(listings['id'])\n",
    "# true_scores = listings[['id','review_scores_rating']]\n",
    "# print(true_scores.shape)\n",
    "# true_scores = true_scores.dropna(axis=0, how='any')\n",
    "# print(true_scores.shape)"
   ]
  },
  {
   "cell_type": "code",
   "execution_count": 136,
   "metadata": {},
   "outputs": [
    {
     "name": "stdout",
     "output_type": "stream",
     "text": [
      "   listing_id  reviewer_id  sentiment  true_score\n",
      "0        2515         2603    0.96785        0.92\n",
      "1        2515         8455    0.97685        0.92\n",
      "2        2515         9759    0.98100        0.92\n",
      "3        2515         9193    0.98130        0.92\n",
      "4        2515         7048    0.96675        0.92\n",
      "5        2515        12521    0.97505        0.92\n",
      "6        2515         5889    0.81200        0.92\n",
      "7        2515        15342    0.99350        0.92\n",
      "8        2515        26899    0.99865        0.92\n",
      "9        2515        26718    0.70035        0.92\n"
     ]
    }
   ],
   "source": [
    "# data['true_score'] = np.nan\n",
    "# for index, row in data.iterrows():\n",
    "# #     print(row['listing_id'])\n",
    "#     score = true_scores.loc[true_scores['id'] == row['listing_id']]['review_scores_rating'].tolist()\n",
    "#     if len(score) > 0:\n",
    "# #         print(score)\n",
    "#         data.set_value(index, 'true_score', score[0])\n",
    "# #     print(score)\n",
    "# print(data.head(10))\n",
    "\n",
    "data = data.merge(listings, left_on='listing_id', right_on='id')\n",
    "data = data.filter(['listing_id','reviewer_id', 'sentiment', 'review_scores_rating'], axis=1)\n",
    "data.rename(columns={'review_scores_rating':'true_score'}, inplace=True)\n",
    "data = data.dropna(axis=0, how='any')\n",
    "data['true_score'] = data['true_score']/100\n",
    "data['sentiment'] = (data['sentiment'] + 1) / 2\n",
    "print(data.head(10))"
   ]
  },
  {
   "cell_type": "code",
   "execution_count": 137,
   "metadata": {},
   "outputs": [
    {
     "name": "stdout",
     "output_type": "stream",
     "text": [
      "(895016, 4)\n",
      "(895016, 4)\n",
      "   listing_id  reviewer_id  sentiment  true_score\n",
      "0        2515         2603    0.96785        0.92\n",
      "1        2515         8455    0.97685        0.92\n",
      "2        2515         9759    0.98100        0.92\n",
      "3        2515         9193    0.98130        0.92\n",
      "4        2515         7048    0.96675        0.92\n",
      "5        2515        12521    0.97505        0.92\n",
      "6        2515         5889    0.81200        0.92\n",
      "7        2515        15342    0.99350        0.92\n",
      "8        2515        26899    0.99865        0.92\n",
      "9        2515        26718    0.70035        0.92\n"
     ]
    }
   ],
   "source": [
    "new_data = data[['listing_id', 'reviewer_id', 'sentiment', 'true_score']]\n",
    "print(new_data.shape)\n",
    "new_data.drop(new_data[new_data.true_score == 0].index, inplace=True)\n",
    "new_data.drop(new_data[new_data.sentiment == 0].index, inplace=True)\n",
    "print(new_data.shape)\n",
    "print(new_data.head(10))"
   ]
  },
  {
   "cell_type": "code",
   "execution_count": 138,
   "metadata": {},
   "outputs": [],
   "source": [
    "new_data.to_csv('orig_data.csv')"
   ]
  },
  {
   "cell_type": "code",
   "execution_count": 152,
   "metadata": {},
   "outputs": [],
   "source": [
    "data = pd.read_csv('orig_data.csv')\n",
    "host_gender = pd.read_csv('output_gender_host_total.csv')\n",
    "host_age = pd.read_csv('output_hosts_age_total.csv')"
   ]
  },
  {
   "cell_type": "code",
   "execution_count": 153,
   "metadata": {},
   "outputs": [
    {
     "name": "stdout",
     "output_type": "stream",
     "text": [
      "   listing_id  reviewer_id  sentiment  true_score host_gender  host_age\n",
      "0        2539     25160947    0.81245        0.97           F  (25, 32)\n",
      "1        2539     91513326    0.96140        0.97           F  (25, 32)\n",
      "2        2539     90022459    0.73770        0.97           F  (25, 32)\n",
      "3        2539    116165195    0.96155        0.97           F  (25, 32)\n",
      "4        2539    118432644    0.50000        0.97           F  (25, 32)\n",
      "5        2539      1806142    0.99405        0.97           F  (25, 32)\n",
      "6        2539    149989346    0.98190        0.97           F  (25, 32)\n",
      "7        2595        50679    0.31940        0.97           M  (38, 43)\n",
      "8        2595        53267    0.81245        0.97           M  (38, 43)\n",
      "9        2595        38960    0.96240        0.97           M  (38, 43)\n"
     ]
    }
   ],
   "source": [
    "data = data.merge(host_gender, left_on='listing_id', right_on='ID')\n",
    "data = data.filter(['listing_id','reviewer_id','sentiment', 'true_score','label'], axis=1)\n",
    "data.rename(columns={'label':'host_gender'}, inplace=True)\n",
    "# data = data.merge(host_age, left_on='listing_id', right_on='ID')\n",
    "data = data.merge(host_age, left_on='listing_id', right_on='ID')\n",
    "data = data.filter(['listing_id','reviewer_id', 'sentiment', 'true_score', 'host_gender', 'label'], axis=1)\n",
    "data.rename(columns={'label':'host_age'}, inplace=True)\n",
    "print(data.head(10))"
   ]
  },
  {
   "cell_type": "code",
   "execution_count": 154,
   "metadata": {},
   "outputs": [
    {
     "name": "stdout",
     "output_type": "stream",
     "text": [
      "(128736, 6)\n",
      "(121413, 6)\n"
     ]
    }
   ],
   "source": [
    "print(data.shape)\n",
    "data.host_age = data.host_age.astype('str')\n",
    "data = data[data.host_age != \"(0, 2)\"]\n",
    "data = data[data.host_age != \"(4, 6)\"]\n",
    "data = data[data.host_age != \"(8, 12)\"]\n",
    "print(data.shape)"
   ]
  },
  {
   "cell_type": "code",
   "execution_count": 155,
   "metadata": {},
   "outputs": [
    {
     "name": "stdout",
     "output_type": "stream",
     "text": [
      "   listing_id  reviewer_id  sentiment  true_score host_gender  host_age\n",
      "0        2539     25160947    0.81245        0.97           F  (25, 32)\n",
      "1        2539     91513326    0.96140        0.97           F  (25, 32)\n",
      "2        2539     90022459    0.73770        0.97           F  (25, 32)\n",
      "3        2539    116165195    0.96155        0.97           F  (25, 32)\n",
      "4        2539    118432644    0.50000        0.97           F  (25, 32)\n",
      "5        2539      1806142    0.99405        0.97           F  (25, 32)\n",
      "6        2539    149989346    0.98190        0.97           F  (25, 32)\n",
      "7        2595        50679    0.31940        0.97           M  (38, 43)\n",
      "8        2595        53267    0.81245        0.97           M  (38, 43)\n",
      "9        2595        38960    0.96240        0.97           M  (38, 43)\n",
      "(121413, 6)\n"
     ]
    }
   ],
   "source": [
    "data.drop(data[data.host_gender == np.nan].index, inplace=True)\n",
    "data.drop(data[data.host_age == np.nan].index, inplace=True)\n",
    "print(data.head(10))\n",
    "print(data.shape)\n",
    "\n",
    "data.to_csv('host_focus_data.csv')"
   ]
  },
  {
   "cell_type": "code",
   "execution_count": 156,
   "metadata": {},
   "outputs": [
    {
     "name": "stdout",
     "output_type": "stream",
     "text": [
      "   listing_id  reviewer_id  sentiment  true_score reviewer_age reviewer_gender\n",
      "0      121473       592782    0.95160        0.95     (25, 32)               F\n",
      "1      121473       660070    0.98720        0.95     (25, 32)               F\n",
      "2      121473       660070    0.98630        0.95     (25, 32)               F\n",
      "3      121473       498828    0.92775        0.95     (25, 32)               F\n",
      "4      121473       749428    0.97010        0.95     (25, 32)               F\n",
      "5      121473         9144    0.99550        0.95     (25, 32)               F\n",
      "6      121473       161248    0.97195        0.95     (25, 32)               F\n",
      "7      121473      1390425    0.95930        0.95     (25, 32)               F\n",
      "8      121473       458760    0.98030        0.95     (25, 32)               F\n",
      "9      121473      1787298    0.97880        0.95     (25, 32)               F\n",
      "(542, 6)\n"
     ]
    }
   ],
   "source": [
    "data = pd.read_csv('orig_data.csv')\n",
    "#Age\n",
    "reviewer_age = pd.read_csv('output_age_reviewers_total.csv')\n",
    "data = data.merge(reviewer_age, left_on='listing_id', right_on='ID')\n",
    "data = data.filter(['listing_id','reviewer_id','sentiment', 'true_score', 'label'], axis=1)\n",
    "data.rename(columns={'label':'reviewer_age'}, inplace=True)\n",
    "data.reviewer_age = data.reviewer_age.astype('str')\n",
    "data = data[data.reviewer_age != \"(0, 2)\"]\n",
    "data = data[data.reviewer_age != \"(4, 6)\"]\n",
    "data = data[data.reviewer_age != \"(8, 12)\"]\n",
    "\n",
    "# # Gender\n",
    "reviewer_gender = pd.read_csv('output_gender_reviewer_total.csv')\n",
    "data = data.merge(reviewer_gender, left_on='listing_id', right_on='ID')\n",
    "data = data.filter(['listing_id','reviewer_id','sentiment', 'true_score', 'reviewer_age','label'], axis=1)\n",
    "data.rename(columns={'label':'reviewer_gender'}, inplace=True)\n",
    "\n",
    "print(data.head(10))\n",
    "print(data.shape)\n",
    "\n",
    "\n",
    "# new_data = data[['listing_id', 'reviewer_id', 'sentiment', 'true_score']]\n",
    "# print(new_data.shape)\n",
    "# new_data.drop(new_data[new_data.true_score == 0].index, inplace=True)\n",
    "# new_data.drop(new_data[new_data.sentiment == 0].index, inplace=True)\n",
    "# print(new_data.shape)\n",
    "# print(new_data.head(10))"
   ]
  },
  {
   "cell_type": "code",
   "execution_count": 157,
   "metadata": {},
   "outputs": [],
   "source": [
    "data.to_csv('reviewer_focus_data.csv')"
   ]
  },
  {
   "cell_type": "code",
   "execution_count": null,
   "metadata": {},
   "outputs": [],
   "source": []
  }
 ],
 "metadata": {
  "kernelspec": {
   "display_name": "Python 3",
   "language": "python",
   "name": "python3"
  },
  "language_info": {
   "codemirror_mode": {
    "name": "ipython",
    "version": 3
   },
   "file_extension": ".py",
   "mimetype": "text/x-python",
   "name": "python",
   "nbconvert_exporter": "python",
   "pygments_lexer": "ipython3",
   "version": "3.5.2"
  }
 },
 "nbformat": 4,
 "nbformat_minor": 2
}
